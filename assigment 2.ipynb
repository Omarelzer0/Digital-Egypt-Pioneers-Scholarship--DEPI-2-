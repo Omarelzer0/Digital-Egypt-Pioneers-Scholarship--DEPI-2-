{
 "cells": [
  {
   "cell_type": "markdown",
   "metadata": {},
   "source": [
    "<h1>omar hassan mohamed</h1> \n"
   ]
  },
  {
   "cell_type": "markdown",
   "metadata": {},
   "source": [
    "## assigment 2"
   ]
  },
  {
   "cell_type": "markdown",
   "metadata": {},
   "source": [
    "### Part 1: Lists and List Slicing (20 points)"
   ]
  },
  {
   "cell_type": "markdown",
   "metadata": {},
   "source": [
    " 1. (10 points) Create a list of 10 integers ranging from 1 to 20. Then, do the following: \n",
    " - Extract and print the first 5 elements of the list. \n",
    " - Extract and print the last 3 elements using negative - indexing. \n",
    " - Extract and print all elements from index 3 to index 7. "
   ]
  },
  {
   "cell_type": "code",
   "execution_count": null,
   "metadata": {},
   "outputs": [
    {
     "name": "stdout",
     "output_type": "stream",
     "text": [
      "[1, 3, 5, 7, 9]\n",
      "[15, 18, 20]\n",
      "[7, 9, 11, 13]\n"
     ]
    }
   ],
   "source": [
    "#  1\n",
    "list1 = [1,3,5,7,9,11,13,15,18,20]\n",
    "print (list1[:5])\n",
    "print (list1[-3:])\n",
    "print (list1[3:8])"
   ]
  },
  {
   "cell_type": "markdown",
   "metadata": {},
   "source": [
    " 2. (10 points) Write a Python program that: \n",
    "- Creates a list of 5 different fruits. \n",
    "- Add two more fruits to the list. \n",
    "- Remove the last fruit in the list. \n",
    "- Print the updated list."
   ]
  },
  {
   "cell_type": "code",
   "execution_count": 1,
   "metadata": {},
   "outputs": [
    {
     "name": "stdout",
     "output_type": "stream",
     "text": [
      "['apple', 'peach', 'bnana', 'orange', 'berry', 'waltermelon']\n"
     ]
    }
   ],
   "source": [
    "#   2.\n",
    "list2 =[\"apple\" , \"peach\" , \"bnana\" , \"orange\" , \"berry\"]\n",
    "list2.append(\"waltermelon\")\n",
    "list2.append(\"mango\")\n",
    "list2.pop()\n",
    "# another way \n",
    "# list2.remove(\"mango\")\n",
    "print (list2)\n",
    "\n"
   ]
  },
  {
   "cell_type": "markdown",
   "metadata": {},
   "source": [
    "#### Part 2: Tuples and Dictionaries (30 points)"
   ]
  },
  {
   "cell_type": "markdown",
   "metadata": {},
   "source": [
    "3. (10 points) \n",
    "- Create a tuple that contains 5 different cities. \n",
    "- Access and print the second city in the tuple. \n",
    "- Try to change the value of the second city in the tuple and explain why it does \n",
    "not work. "
   ]
  },
  {
   "cell_type": "code",
   "execution_count": null,
   "metadata": {},
   "outputs": [
    {
     "name": "stdout",
     "output_type": "stream",
     "text": [
      "tanta\n"
     ]
    },
    {
     "ename": "TypeError",
     "evalue": "'tuple' object does not support item assignment",
     "output_type": "error",
     "traceback": [
      "\u001b[1;31m---------------------------------------------------------------------------\u001b[0m",
      "\u001b[1;31mTypeError\u001b[0m                                 Traceback (most recent call last)",
      "Cell \u001b[1;32mIn[3], line 4\u001b[0m\n\u001b[0;32m      2\u001b[0m tuple1\u001b[38;5;241m=\u001b[39m(\u001b[38;5;124m\"\u001b[39m\u001b[38;5;124mcairo\u001b[39m\u001b[38;5;124m\"\u001b[39m , \u001b[38;5;124m\"\u001b[39m\u001b[38;5;124mtanta\u001b[39m\u001b[38;5;124m\"\u001b[39m , \u001b[38;5;124m\"\u001b[39m\u001b[38;5;124malex\u001b[39m\u001b[38;5;124m\"\u001b[39m ,\u001b[38;5;124m\"\u001b[39m\u001b[38;5;124mbanha\u001b[39m\u001b[38;5;124m\"\u001b[39m ,\u001b[38;5;124m\"\u001b[39m\u001b[38;5;124msuez\u001b[39m\u001b[38;5;124m\"\u001b[39m)\n\u001b[0;32m      3\u001b[0m \u001b[38;5;28mprint\u001b[39m(tuple1[\u001b[38;5;241m1\u001b[39m])\n\u001b[1;32m----> 4\u001b[0m \u001b[43mtuple1\u001b[49m\u001b[43m[\u001b[49m\u001b[38;5;241;43m1\u001b[39;49m\u001b[43m]\u001b[49m \u001b[38;5;241m=\u001b[39m \u001b[38;5;124m\"\u001b[39m\u001b[38;5;124msohag\u001b[39m\u001b[38;5;124m\"\u001b[39m\n",
      "\u001b[1;31mTypeError\u001b[0m: 'tuple' object does not support item assignment"
     ]
    }
   ],
   "source": [
    "# 3.\n",
    "tuple1=(\"cairo\" , \"tanta\" , \"alex\" ,\"banha\" ,\"suez\")\n",
    "print(tuple1[1])\n",
    "tuple1[1] = \"sohag\"\n",
    "# TypeError: 'tuple' object does not support item assignment"
   ]
  },
  {
   "cell_type": "markdown",
   "metadata": {},
   "source": [
    "4. (10 points) Write a Python program that creates a dictionary with the following keys and \n",
    "values: \n",
    "- 'name': 'John', 'age': 30, 'city': 'New York'. Then: \n",
    "- Print the value of the 'age' key. \n",
    "- Add a new key-value pair 'job': 'Engineer' to the dictionary. \n",
    "- Remove the 'city' key and print the updated dictionary. "
   ]
  },
  {
   "cell_type": "code",
   "execution_count": 9,
   "metadata": {},
   "outputs": [
    {
     "name": "stdout",
     "output_type": "stream",
     "text": [
      "{'name': 'John', 'age': '30', 'city': 'new york'}\n",
      "{'name': 'John', 'age': '30', 'job': 'Engineer'}\n"
     ]
    }
   ],
   "source": [
    "#    4\n",
    "dic={\n",
    "    \"name\":\"John\",\n",
    "    \"age\":\"30\",\n",
    "    \"city\":\"new york\"\n",
    "}\n",
    "\n",
    "print(dic)\n",
    "\n",
    "dic[\"job\"]=\"Engineer\"\n",
    "dic.pop(\"city\")\n",
    "print(dic)"
   ]
  },
  {
   "cell_type": "markdown",
   "metadata": {},
   "source": [
    "5. Creates a dictionary to store the names and ages of 3 people. \n",
    "- Print each person's name and their corresponding age using a loop. \n"
   ]
  },
  {
   "cell_type": "code",
   "execution_count": null,
   "metadata": {},
   "outputs": [
    {
     "name": "stdout",
     "output_type": "stream",
     "text": [
      "mr.omar has 20 years old \n",
      "mr.hassan has 47 years old \n",
      "mr.ziad has 15 years old \n"
     ]
    }
   ],
   "source": [
    "#        5\n",
    "people={\n",
    "    \"omar\":20,\n",
    "    \"hassan\":47,\n",
    "    \"ziad\":15\n",
    "}\n",
    "\n",
    "for name,age in people.items():\n",
    "    print(f\"mr.{name} has {age} years old \")"
   ]
  },
  {
   "cell_type": "markdown",
   "metadata": {},
   "source": [
    "#### Part 3: Conditional Statements (30 points)"
   ]
  },
  {
   "cell_type": "markdown",
   "metadata": {},
   "source": [
    "6. (10 points) Write a Python program that takes the user's age as input and prints: \n",
    "- 'Adult' if the age is 18 or older. \n",
    "- 'Minor' if the age is less than 18."
   ]
  },
  {
   "cell_type": "code",
   "execution_count": 14,
   "metadata": {},
   "outputs": [
    {
     "name": "stdout",
     "output_type": "stream",
     "text": [
      "Minor\n"
     ]
    }
   ],
   "source": [
    "age = int(input(\"please enter ur age \"))\n",
    "\n",
    "if age >= 18:\n",
    "    print(\"Adult\")\n",
    "else:\n",
    "    print(\"Minor\")\n"
   ]
  },
  {
   "cell_type": "markdown",
   "metadata": {},
   "source": [
    "7. (10 points) Write a Python program that checks if a number entered by the user is: \n",
    "- 'Even' if it is divisible by 2. \n",
    "- 'Odd' if it is not divisible by 2. \n",
    "  - You must use an if-else statement for this task."
   ]
  },
  {
   "cell_type": "code",
   "execution_count": 16,
   "metadata": {},
   "outputs": [
    {
     "name": "stdout",
     "output_type": "stream",
     "text": [
      "Odd\n"
     ]
    }
   ],
   "source": [
    "num = int (input(\"please enter a number \"))\n",
    "\n",
    "if num %2 == 0 :\n",
    "    print(\"Even\")\n",
    "elif num %2 != 0:\n",
    "    print(\"Odd\")\n"
   ]
  },
  {
   "cell_type": "markdown",
   "metadata": {},
   "source": [
    "#### Part 4: Loops (30 points) "
   ]
  },
  {
   "cell_type": "markdown",
   "metadata": {},
   "source": [
    "9. (10 points) Write a Python program that uses a for loop to print all even numbers \n",
    "between 1 and 20. "
   ]
  },
  {
   "cell_type": "code",
   "execution_count": 19,
   "metadata": {},
   "outputs": [
    {
     "name": "stdout",
     "output_type": "stream",
     "text": [
      "2\n",
      "4\n",
      "6\n",
      "8\n",
      "10\n",
      "12\n",
      "14\n",
      "16\n",
      "18\n",
      "20\n"
     ]
    }
   ],
   "source": [
    "for i in range(1,21):\n",
    "    if i %2 == 0 :\n",
    "        print(i)"
   ]
  },
  {
   "cell_type": "markdown",
   "metadata": {},
   "source": [
    "10. Write a Python program that uses a while loop to print the numbers from 10 \n",
    "to 1, in descending order."
   ]
  },
  {
   "cell_type": "code",
   "execution_count": 20,
   "metadata": {},
   "outputs": [
    {
     "name": "stdout",
     "output_type": "stream",
     "text": [
      "10\n",
      "9\n",
      "8\n",
      "7\n",
      "6\n",
      "5\n",
      "4\n",
      "3\n",
      "2\n",
      "1\n"
     ]
    }
   ],
   "source": [
    "i = 10\n",
    "while i:\n",
    "    print(i)\n",
    "    i-=1\n",
    "\n"
   ]
  },
  {
   "cell_type": "markdown",
   "metadata": {},
   "source": [
    "11. Write a Python program that: \n",
    "- Asks the user to input a number. \n",
    "- Then, using a for loop, calculates the sum of all numbers from 1 to the entered number \n",
    "(inclusive) and prints the result."
   ]
  },
  {
   "cell_type": "code",
   "execution_count": 22,
   "metadata": {},
   "outputs": [
    {
     "name": "stdout",
     "output_type": "stream",
     "text": [
      "55\n"
     ]
    }
   ],
   "source": [
    "num = int (input(\"please enter the a number\"))\n",
    "sum = 0\n",
    "for i in range(num+1):\n",
    "    sum += i\n",
    "print(sum) "
   ]
  },
  {
   "cell_type": "markdown",
   "metadata": {},
   "source": [
    "12. (10 points) Write a Python program that asks the user for their name and age, then prints \n",
    "a message saying: \"Hello, [name]! You are [age] years old.\""
   ]
  },
  {
   "cell_type": "code",
   "execution_count": 23,
   "metadata": {},
   "outputs": [
    {
     "name": "stdout",
     "output_type": "stream",
     "text": [
      "Hello, omar! You are 20 years old\n"
     ]
    }
   ],
   "source": [
    "name = input(\"please enter ur name \")\n",
    "age = int (input(\"please enter ur age \"))\n",
    "print(f\"Hello, {name}! You are {age} years old\")"
   ]
  },
  {
   "cell_type": "markdown",
   "metadata": {},
   "source": [
    "13. (10 points) Write a Python program that asks the user for their favorite color and checks \n",
    "if it is 'blue'. If it is, print \"You have great taste!\", otherwise print \"That's a \n",
    "nice color too!\""
   ]
  },
  {
   "cell_type": "code",
   "execution_count": 25,
   "metadata": {},
   "outputs": [
    {
     "name": "stdout",
     "output_type": "stream",
     "text": [
      "That's a nice color too!\n"
     ]
    }
   ],
   "source": [
    "color =input(\"what's ur favorit color \")\n",
    "if color == \"blue\":\n",
    "    print(\"You have great taste!\")\n",
    "else:\n",
    "    print (\"That's a nice color too!\")"
   ]
  },
  {
   "cell_type": "markdown",
   "metadata": {},
   "source": [
    "#### Bonus Question (10 points)"
   ]
  },
  {
   "cell_type": "markdown",
   "metadata": {},
   "source": [
    "14. (10 points) Write a Python program that asks the user to enter a list of 5 numbers. \n",
    "Then: \n",
    "- Calculate and print the average of the numbers. \n",
    "- Print the largest and smallest numbers from the list."
   ]
  },
  {
   "cell_type": "code",
   "execution_count": null,
   "metadata": {},
   "outputs": [
    {
     "name": "stdout",
     "output_type": "stream",
     "text": [
      "the average of list = 3.0\n",
      "largest number in list = 5.0\n",
      "smallest number in list = 1.0\n"
     ]
    }
   ],
   "source": [
    "list =[]\n",
    "# sum =0\n",
    "for i in range(0,5):\n",
    "    list.append( float(input(f\"einter the element number {i+1}\")))\n",
    "    # sum += list[i] \n",
    "avg = sum(list) / len(list)\n",
    "mx =max(list)\n",
    "mn =min(list)\n",
    "print(f\"the average of list = {avg}\")\n",
    "print(f\"largest number in list = {mx}\")\n",
    "print(f\"smallest number in list = {mn}\")"
   ]
  }
 ],
 "metadata": {
  "kernelspec": {
   "display_name": "Python 3",
   "language": "python",
   "name": "python3"
  },
  "language_info": {
   "codemirror_mode": {
    "name": "ipython",
    "version": 3
   },
   "file_extension": ".py",
   "mimetype": "text/x-python",
   "name": "python",
   "nbconvert_exporter": "python",
   "pygments_lexer": "ipython3",
   "version": "3.13.0"
  }
 },
 "nbformat": 4,
 "nbformat_minor": 2
}
