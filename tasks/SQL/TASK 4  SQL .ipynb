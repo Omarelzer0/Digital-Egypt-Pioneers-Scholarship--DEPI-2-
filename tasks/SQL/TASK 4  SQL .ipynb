{
 "cells": [
  {
   "cell_type": "markdown",
   "metadata": {},
   "source": [
    "### NAME OMAR HASSAN MOHAMED \n",
    "#### TASK 1 IN SQL"
   ]
  },
  {
   "cell_type": "code",
   "execution_count": 2,
   "metadata": {},
   "outputs": [],
   "source": [
    "import sqlite3 "
   ]
  },
  {
   "cell_type": "code",
   "execution_count": 3,
   "metadata": {},
   "outputs": [],
   "source": [
    "# Create connection\n",
    "con = sqlite3.connect(\"company.db\")\n",
    "cursor = con.cursor()"
   ]
  },
  {
   "cell_type": "code",
   "execution_count": null,
   "metadata": {},
   "outputs": [
    {
     "data": {
      "text/plain": [
       "<sqlite3.Cursor at 0x1a8b774bbc0>"
      ]
     },
     "execution_count": 4,
     "metadata": {},
     "output_type": "execute_result"
    }
   ],
   "source": [
    "#  Create tables\n",
    "cursor.execute('''CREATE TABLE IF NOT EXISTS mangers (\n",
    "    id INTEGER PRIMARY KEY AUTOINCREMENT,\n",
    "    name TEXT,\n",
    "    department_id INTEGER NOT NULL,\n",
    "    FOREIGN KEY(department_id) REFERENCES departments(id)\n",
    ")''')\n",
    "\n",
    "cursor.execute('''CREATE TABLE IF NOT EXISTS  employees  (\n",
    "    id INTEGER PRIMARY KEY AUTOINCREMENT,\n",
    "    first_name TEXT,\n",
    "    last_name TEXT,\n",
    "    salary INTEGER,\n",
    "    manger_id INTEGER NOT NULL ,\n",
    "    department_id INTEGER NOT NULL,\n",
    "    FOREIGN KEY(manger_id) REFERENCES mangers(id),\n",
    "    FOREIGN KEY(department_id) REFERENCES departments(id)\n",
    ")''')\n",
    "\n",
    "cursor.execute('''CREATE TABLE IF NOT EXISTS departments (\n",
    "    id INTEGER PRIMARY KEY AUTOINCREMENT,\n",
    "    name TEXT NOT NULL\n",
    ")''')"
   ]
  },
  {
   "cell_type": "code",
   "execution_count": 6,
   "metadata": {},
   "outputs": [],
   "source": [
    "# samle data \n",
    "employees = [\n",
    "    (\"omar\",\"hassan\",5000,100,1050),\n",
    "    (\"emad\",\"mohsen\",2500,110,1030),\n",
    "    (\"ali\",\"gomaa\",3000,150,1020),\n",
    "    (\"sara\",\" amr \",4000,200,1080),\n",
    "    (\"gamal\",\"hegazy\",3500,300,1060),\n",
    "    (\"jana\",\"ammar\",2500,250,1070),\n",
    "    (\"seif\",\"ali\",5000,350,1010)\n",
    "]\n",
    "\n",
    "\n",
    "departments=[\n",
    "    (1050,\"HR\"),\n",
    "    (1030,\"Operations\"),\n",
    "    (1020,\"Quality\"),\n",
    "    (1080,\"Logistics\"),\n",
    "    (1060,\" IT \"),\n",
    "    (1070,\"Product Management\"),\n",
    "    (1010,\"Customer Service\")\n",
    "]\n",
    "\n",
    "mangers=[\n",
    "    (100,\"mosaad\",1050),\n",
    "    (110,\"ismael\",1030),\n",
    "    (150,\"yousef\",1020),\n",
    "    (200,\"hytham\",1080),\n",
    "    (300,\"omar\",1060),\n",
    "    (250,\"ali \",1070),\n",
    "    (350,\"amr\",1010)\n",
    "]\n"
   ]
  },
  {
   "cell_type": "code",
   "execution_count": 8,
   "metadata": {},
   "outputs": [],
   "source": [
    "# insert samle data \n",
    "cursor.executemany('INSERT INTO employees (first_name, last_name, salary,manger_id,department_id ) VALUES (?, ?, ? , ? , ?)', employees )\n",
    "\n",
    "\n",
    "cursor.executemany('INSERT INTO mangers (id, name , department_id ) VALUES (?, ?, ?)', mangers )\n",
    "\n",
    "cursor.executemany('INSERT INTO departments (id, name  ) VALUES (?, ?)', departments )\n",
    "\n",
    "con.commit()"
   ]
  },
  {
   "cell_type": "code",
   "execution_count": 9,
   "metadata": {},
   "outputs": [
    {
     "name": "stdout",
     "output_type": "stream",
     "text": [
      "[(1, 'omar', 'hassan', 5000, 100, 1050), (2, 'emad', 'mohsen', 2500, 110, 1030), (3, 'ali', 'gomaa', 3000, 150, 1020), (4, 'sara', ' amr ', 4000, 200, 1080), (5, 'gamal', 'hegazy', 3500, 300, 1060), (6, 'jana', 'ammar', 2500, 250, 1070), (7, 'seif', 'ali', 5000, 350, 1010)]\n"
     ]
    }
   ],
   "source": [
    "# Select all employees\n",
    "cursor.execute(\"SELECT * FROM employees\")\n",
    "\n",
    "#Fetch All Data \n",
    "print(cursor.fetchall())"
   ]
  },
  {
   "cell_type": "code",
   "execution_count": 10,
   "metadata": {},
   "outputs": [
    {
     "name": "stdout",
     "output_type": "stream",
     "text": [
      "[(100, 'mosaad', 1050), (110, 'ismael', 1030), (150, 'yousef', 1020), (200, 'hytham', 1080), (250, 'ali ', 1070), (300, 'omar', 1060), (350, 'amr', 1010)]\n"
     ]
    }
   ],
   "source": [
    "# Select all employees\n",
    "cursor.execute(\"SELECT * FROM mangers\")\n",
    "\n",
    "#Fetch All Data \n",
    "print(cursor.fetchall())"
   ]
  },
  {
   "cell_type": "markdown",
   "metadata": {},
   "source": [
    "##### Question 1: \n",
    "Write a SQL query to retrieve the emp_id, last_name, and salary of employees whose salary is \n",
    "between 2,000 and 5,000 and do not have a manager ID of 101 or 200. \n",
    "Instructions: \n",
    "1. Use the SELECT statement to specify the columns: emp_id, last_name, and salary. \n",
    "2. Filter the results using the WHERE clause with the BETWEEN operator to set the salary range. \n",
    "3. Use the NOT IN clause to exclude certain manager IDs. \n",
    "4. Combine conditions using the AND logical operator."
   ]
  },
  {
   "cell_type": "code",
   "execution_count": 4,
   "metadata": {},
   "outputs": [
    {
     "name": "stdout",
     "output_type": "stream",
     "text": [
      "(1, 'hassan', 5000, 100)\n",
      "(2, 'mohsen', 2500, 110)\n",
      "(3, 'gomaa', 3000, 150)\n",
      "(5, 'hegazy', 3500, 300)\n",
      "(6, 'ammar', 2500, 250)\n",
      "(7, 'ali', 5000, 350)\n"
     ]
    }
   ],
   "source": [
    "cursor.execute( ''' SELECT id , last_name , salary , manger_id\n",
    "                FROM employees \n",
    "                WHERE salary BETWEEN 2000 AND 5000\n",
    "                AND manger_id NOT IN (101,200)\n",
    "''' )\n",
    "data = cursor.fetchall()\n",
    "for row in data :\n",
    "    print(row)"
   ]
  },
  {
   "cell_type": "markdown",
   "metadata": {},
   "source": [
    "##### Question 2: \n",
    "Write a SQL query to display the employee names along with their respective department names. \n",
    "Use aliases for table names for better readability. \n",
    "Instructions: \n",
    "1. Use the SELECT statement to specify the columns: employee.name and department.name. \n",
    "2. Use the FROM clause to include the tables employees and departments. \n",
    "3. Use an INNER JOIN to connect the employees and departments tables based on the \n",
    "department IDs. \n",
    "4. Use table aliases (e.g., e for employees, d for departments) to shorten the table names in the \n",
    "query. \n",
    "5. Order the results by department name in ascending order."
   ]
  },
  {
   "cell_type": "code",
   "execution_count": 5,
   "metadata": {},
   "outputs": [
    {
     "name": "stdout",
     "output_type": "stream",
     "text": [
      "(' IT ', 'gamal')\n",
      "('Customer Service', 'seif')\n",
      "('HR', 'omar')\n",
      "('Logistics', 'sara')\n",
      "('Operations', 'emad')\n",
      "('Product Management', 'jana')\n",
      "('Quality', 'ali')\n"
     ]
    }
   ],
   "source": [
    "cursor.execute( ''' SELECT d.name as department_name,\n",
    "                e.first_name AS employ_name \n",
    "                FROM departments d \n",
    "                JOIN employees e ON d.id = e.department_id\n",
    "                GROUP BY d.name\n",
    "                ORDER BY d.name \n",
    "''' )\n",
    "data = cursor.fetchall()\n",
    "for row in data :\n",
    "    print(row)"
   ]
  },
  {
   "cell_type": "markdown",
   "metadata": {},
   "source": [
    "##### Question 3: \n",
    "Write a SQL query to find the number of employees and the average salary for each department. \n",
    "Ensure that the results are grouped by department ID. \n",
    "Instructions: \n",
    "1. Use the SELECT statement to specify the department ID, the count of employees, and the \n",
    "average salary. \n",
    "2. Use the GROUP BY clause to group the results by department ID. \n",
    "3. Use the COUNT() function to find the number of employees in each department. \n",
    "4. Use the AVG() function to calculate the average salary in each department."
   ]
  },
  {
   "cell_type": "code",
   "execution_count": 9,
   "metadata": {},
   "outputs": [
    {
     "name": "stdout",
     "output_type": "stream",
     "text": [
      "(1010, 1, 5000.0)\n",
      "(1020, 1, 3000.0)\n",
      "(1030, 1, 2500.0)\n",
      "(1050, 1, 5000.0)\n",
      "(1060, 1, 3500.0)\n",
      "(1070, 1, 2500.0)\n",
      "(1080, 1, 4000.0)\n"
     ]
    }
   ],
   "source": [
    "cursor.execute( ''' SELECT d.id  ,\n",
    "                COUNT(e.id) ,\n",
    "                AVG(salary)\n",
    "                FROM departments d\n",
    "                JOIN employees e ON e.department_id = d.id \n",
    "                GROUP BY d.id\n",
    "''' )\n",
    "\n",
    "data = cursor.fetchall()\n",
    "for row in data :\n",
    "    print(row)"
   ]
  },
  {
   "cell_type": "code",
   "execution_count": null,
   "metadata": {},
   "outputs": [],
   "source": []
  }
 ],
 "metadata": {
  "kernelspec": {
   "display_name": "Python 3",
   "language": "python",
   "name": "python3"
  },
  "language_info": {
   "codemirror_mode": {
    "name": "ipython",
    "version": 3
   },
   "file_extension": ".py",
   "mimetype": "text/x-python",
   "name": "python",
   "nbconvert_exporter": "python",
   "pygments_lexer": "ipython3",
   "version": "3.13.0"
  }
 },
 "nbformat": 4,
 "nbformat_minor": 2
}
