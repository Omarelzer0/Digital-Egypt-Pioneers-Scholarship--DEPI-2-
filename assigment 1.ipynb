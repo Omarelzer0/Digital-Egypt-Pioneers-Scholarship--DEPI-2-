{
 "cells": [
  {
   "cell_type": "markdown",
   "metadata": {},
   "source": [
    "## NAME: OMAR HASSAN MOHAMED\n",
    "### ASSIGMENT 1\n"
   ]
  },
  {
   "cell_type": "markdown",
   "metadata": {},
   "source": [
    "### Section 1: Printing Messages \n",
    "1. Write a Python program to print the following message on the screen: \n",
    "\"Hello, Python learners! Today we start our coding journey.\" \n",
    "2. Challenge: Print a multi-line message using triple quotes that includes your name and \n",
    "favorite programming language. "
   ]
  },
  {
   "cell_type": "code",
   "execution_count": 5,
   "metadata": {},
   "outputs": [
    {
     "name": "stdout",
     "output_type": "stream",
     "text": [
      "Hello, Python learners! Today we start our coding journey.\n"
     ]
    }
   ],
   "source": [
    "print(\"Hello, Python learners! Today we start our coding journey.\")"
   ]
  },
  {
   "cell_type": "code",
   "execution_count": 6,
   "metadata": {},
   "outputs": [
    {
     "name": "stdout",
     "output_type": "stream",
     "text": [
      "name : omar \n",
      "age : 20\n",
      "job : DA\n"
     ]
    }
   ],
   "source": [
    "print(\"\"\"name : omar \n",
    "age : 20\n",
    "job : DA\"\"\")"
   ]
  },
  {
   "cell_type": "markdown",
   "metadata": {},
   "source": [
    "### Section 2: Variables and Data Types \n",
    "1. Create a variable called age and assign it your age. Print a message that says, \"I am \n",
    "[age] years old.\" \n",
    "2. Challenge: Create three variables of different data types (integer, float, and string). Print \n",
    "each variable with a description of its data type"
   ]
  },
  {
   "cell_type": "code",
   "execution_count": 7,
   "metadata": {},
   "outputs": [
    {
     "name": "stdout",
     "output_type": "stream",
     "text": [
      "I am 20 years old\n"
     ]
    }
   ],
   "source": [
    "age = 20\n",
    "print(f\"I am {age} years old\")\n"
   ]
  },
  {
   "cell_type": "code",
   "execution_count": 8,
   "metadata": {},
   "outputs": [
    {
     "name": "stdout",
     "output_type": "stream",
     "text": [
      "int 20\n",
      "float  2.5\n",
      "str omar hassn\n"
     ]
    }
   ],
   "source": [
    "# Challenge\n",
    "intt = 20\n",
    "flo = 2.5\n",
    "my_string =\"omar hassn\"\n",
    "print(f\"int {intt}\")\n",
    "print(f\"float  {flo}\")\n",
    "print(f\"str {my_string}\" )"
   ]
  },
  {
   "cell_type": "markdown",
   "metadata": {},
   "source": [
    "### Section 3: Working with Strings \n",
    "1. Given the string text = \"Python is amazing\", write a program to extract and print the \n",
    "word \"amazing\" from it. \n",
    "2. Challenge: Concatenate two strings, first_name and last_name, with a space in between, and \n",
    "print the full name in uppercase. "
   ]
  },
  {
   "cell_type": "code",
   "execution_count": 11,
   "metadata": {},
   "outputs": [
    {
     "name": "stdout",
     "output_type": "stream",
     "text": [
      "amazing\n"
     ]
    }
   ],
   "source": [
    "text = \"Python is amazing\"\n",
    "print(text[10:17])"
   ]
  },
  {
   "cell_type": "code",
   "execution_count": null,
   "metadata": {},
   "outputs": [
    {
     "name": "stdout",
     "output_type": "stream",
     "text": [
      "OMAR HASSAN\n"
     ]
    }
   ],
   "source": [
    "# Challenge\n",
    "first_name  =\"omar\"\n",
    "last_name =\"hassan\"\n",
    "full_name= first_name+\" \"+last_name\n",
    "print(full_name.upper())\n",
    "\n"
   ]
  },
  {
   "cell_type": "markdown",
   "metadata": {},
   "source": [
    "### Section 4: Basic Operations \n",
    "1. Write a program to calculate the area of a rectangle with a width of 5 and a height of \n",
    "10. \n",
    "Challenge: Create two numbers, a = 20 and b = 7, and print the result of each arithmetic \n",
    "operation: addition, subtraction, multiplication, division, and modulo."
   ]
  },
  {
   "cell_type": "code",
   "execution_count": 27,
   "metadata": {},
   "outputs": [
    {
     "name": "stdout",
     "output_type": "stream",
     "text": [
      "50\n"
     ]
    }
   ],
   "source": [
    "w=5\n",
    "h=10\n",
    "a = w*h\n",
    "print(a)"
   ]
  },
  {
   "cell_type": "code",
   "execution_count": null,
   "metadata": {},
   "outputs": [
    {
     "name": "stdout",
     "output_type": "stream",
     "text": [
      "27\n",
      "140\n",
      "2.857142857142857\n",
      "13\n",
      "6\n"
     ]
    }
   ],
   "source": [
    "# Challenge\n",
    "a=20\n",
    "b=7\n",
    "sum = a+b\n",
    "multi = a*b\n",
    "div=a/b\n",
    "sub=a-b\n",
    "modul=a%b\n",
    "print(sum)\n",
    "print(multi)\n",
    "print(div)\n",
    "print(sub)\n",
    "print(modul)"
   ]
  },
  {
   "cell_type": "markdown",
   "metadata": {},
   "source": [
    "### Section 5: Lists and Tuples \n",
    "1. Create a list of five of your favorite foods. Print the entire list, then print the third \n",
    "item in the list. \n",
    "2. Challenge: Convert the list into a tuple, and try to change the first item in the tuple. Observe \n",
    "and explain the result."
   ]
  },
  {
   "cell_type": "code",
   "execution_count": 12,
   "metadata": {},
   "outputs": [
    {
     "name": "stdout",
     "output_type": "stream",
     "text": [
      "['pasta', 'pizza', 'krep', 'checken']\n",
      "third item krep\n"
     ]
    }
   ],
   "source": [
    "foods=[\"pasta\" ,\"pizza\" , \"krep\" ,\"checken\"]\n",
    "print(foods)\n",
    "print(\"third item\",foods[2])"
   ]
  },
  {
   "cell_type": "code",
   "execution_count": null,
   "metadata": {},
   "outputs": [
    {
     "ename": "TypeError",
     "evalue": "'tuple' object does not support item assignment",
     "output_type": "error",
     "traceback": [
      "\u001b[1;31m---------------------------------------------------------------------------\u001b[0m",
      "\u001b[1;31mTypeError\u001b[0m                                 Traceback (most recent call last)",
      "Cell \u001b[1;32mIn[13], line 3\u001b[0m\n\u001b[0;32m      1\u001b[0m names \u001b[38;5;241m=\u001b[39m [\u001b[38;5;124m\"\u001b[39m\u001b[38;5;124momar\u001b[39m\u001b[38;5;124m\"\u001b[39m ,\u001b[38;5;124m\"\u001b[39m\u001b[38;5;124mhassan\u001b[39m\u001b[38;5;124m\"\u001b[39m,\u001b[38;5;124m\"\u001b[39m\u001b[38;5;124mmohamed\u001b[39m\u001b[38;5;124m\"\u001b[39m, \u001b[38;5;124m\"\u001b[39m\u001b[38;5;124mammar\u001b[39m\u001b[38;5;124m\"\u001b[39m]\n\u001b[0;32m      2\u001b[0m tupl \u001b[38;5;241m=\u001b[39m\u001b[38;5;28mtuple\u001b[39m(names) \n\u001b[1;32m----> 3\u001b[0m \u001b[43mtupl\u001b[49m\u001b[43m[\u001b[49m\u001b[38;5;241;43m0\u001b[39;49m\u001b[43m]\u001b[49m\u001b[38;5;241m=\u001b[39m \u001b[38;5;124m\"\u001b[39m\u001b[38;5;124mziad \u001b[39m\u001b[38;5;124m\"\u001b[39m\n",
      "\u001b[1;31mTypeError\u001b[0m: 'tuple' object does not support item assignment"
     ]
    }
   ],
   "source": [
    "# Challenge\n",
    "names = [\"omar\" ,\"hassan\",\"mohamed\", \"ammar\"]\n",
    "tupl =tuple(names) \n",
    "tupl[0]= \"ziad \"\n",
    "#typeError: 'tuple' object does not support item assignment"
   ]
  },
  {
   "cell_type": "markdown",
   "metadata": {},
   "source": [
    "### Section 6: String Manipulation and Slicing \n",
    "1. Given the string sentence = \"Learning Python is fun!\", write a program to slice and \n",
    "print the word \"Python\" from it. \n",
    "2. Challenge: Replace the word \"fun\" with \"awesome\" in the sentence and print the new \n",
    "sentence."
   ]
  },
  {
   "cell_type": "code",
   "execution_count": 15,
   "metadata": {},
   "outputs": [
    {
     "name": "stdout",
     "output_type": "stream",
     "text": [
      "Python \n"
     ]
    }
   ],
   "source": [
    "my_str= \"Learning Python is fun!\"\n",
    "print(my_str[9:16])"
   ]
  },
  {
   "cell_type": "code",
   "execution_count": 18,
   "metadata": {},
   "outputs": [
    {
     "name": "stdout",
     "output_type": "stream",
     "text": [
      "Learning Python is awesome!\n"
     ]
    }
   ],
   "source": [
    "# Challenge\n",
    "new_str =my_str.replace(\"fun\",\"awesome\")\n",
    "print(new_str)"
   ]
  },
  {
   "cell_type": "markdown",
   "metadata": {},
   "source": [
    "### Section 7: Dictionaries \n",
    "1. Create a dictionary called student with the keys name, age, and grade. Assign values \n",
    "to each key and print the dictionary. \n",
    "2. Challenge: Add a new key city to the dictionary and set it to any city name. Print the \n",
    "updated dictionary. "
   ]
  },
  {
   "cell_type": "code",
   "execution_count": 20,
   "metadata": {},
   "outputs": [
    {
     "name": "stdout",
     "output_type": "stream",
     "text": [
      "{'name': 'omar', 'age': 20, 'grade': 95}\n",
      "{'name': 'omar', 'age': 20, 'grade': 95, 'city': 'Giza'}\n"
     ]
    }
   ],
   "source": [
    "student = {\n",
    "    \"name\":\"omar\",\n",
    "    \"age\": 20,\n",
    "    \"grade\":95\n",
    "}\n",
    "print(student)\n",
    "# Challenge\n",
    "student[\"city\"] =\"Giza\"\n",
    "print(student)\n"
   ]
  },
  {
   "cell_type": "markdown",
   "metadata": {},
   "source": [
    "### Section8: Basic Arithmetic Operations \n",
    "1. Write a program that takes two numbers from the user and prints their sum, \n",
    "difference, product, and division result. \n",
    "2. Challenge: Use the modulo operator to check if the first number is divisible by the second \n",
    "number, and print the result as \"Divisible\" or \"Not Divisible\""
   ]
  },
  {
   "cell_type": "code",
   "execution_count": 23,
   "metadata": {},
   "outputs": [
    {
     "name": "stdout",
     "output_type": "stream",
     "text": [
      "19\n",
      "90\n",
      "1.1111111111111112\n",
      "1\n",
      "1\n",
      " Not Divisible\n"
     ]
    }
   ],
   "source": [
    "num1=int(input(\"please enter a number\"))\n",
    "num2=int(input(\"please enter a number\"))\n",
    "sum_num= num1 + num2\n",
    "product = num1 * num2\n",
    "division=num1 / num2\n",
    "dif=num1 - num2\n",
    "module=num1 % num2\n",
    "print(sum_num)\n",
    "print(product)\n",
    "print(division)\n",
    "print(dif)\n",
    "print(module)\n",
    "# Challenge\n",
    "if num1 % num2 == 0:\n",
    "    print(\"Divisible\")\n",
    "else:\n",
    "    print(\" Not Divisible\")\n",
    "\n",
    "    "
   ]
  }
 ],
 "metadata": {
  "kernelspec": {
   "display_name": "Python 3",
   "language": "python",
   "name": "python3"
  },
  "language_info": {
   "codemirror_mode": {
    "name": "ipython",
    "version": 3
   },
   "file_extension": ".py",
   "mimetype": "text/x-python",
   "name": "python",
   "nbconvert_exporter": "python",
   "pygments_lexer": "ipython3",
   "version": "3.13.0"
  }
 },
 "nbformat": 4,
 "nbformat_minor": 2
}
